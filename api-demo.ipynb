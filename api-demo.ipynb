{
 "cells": [
  {
   "cell_type": "code",
   "execution_count": null,
   "metadata": {
    "pycharm": {
     "name": "#%%\n"
    }
   },
   "outputs": [],
   "source": [
    "import requests\n",
    "import json\n",
    "import pprint\n",
    "tethysurl = 'https://tethys.byu.edu'\n",
    "header = {'Authorization': 'Token [YourUserTokenGoesHere]'}"
   ]
  },
  {
   "cell_type": "code",
   "execution_count": null,
   "metadata": {
    "pycharm": {
     "name": "#%%\n"
    }
   },
   "outputs": [],
   "source": [
    "helpme = requests.get(tethysurl + '/apps/gfs/api/help', headers=header)\n",
    "pprint.pprint(json.loads(helpme.text))"
   ]
  },
  {
   "cell_type": "code",
   "execution_count": null,
   "metadata": {
    "scrolled": true
   },
   "outputs": [],
   "source": [
    "var_levels = requests.get(tethysurl + '/apps/gfs/api/variableLevels', headers=header, params=dict(variable='acpcp'))\n",
    "pprint.pprint(json.loads(var_levels.text))"
   ]
  },
  {
   "cell_type": "code",
   "execution_count": null,
   "metadata": {
    "pycharm": {
     "name": "#%%\n"
    }
   },
   "outputs": [],
   "source": [
    "# Example parameters for the timeseries API\n",
    "point_parameters = {\n",
    "    'variable': 'al',\n",
    "    'level': 'surface',\n",
    "    'location': [-110, 45],\n",
    "}\n",
    "polygon_parameters = {\n",
    "    'variable': 'SUNSD',\n",
    "    'level': 'surface',\n",
    "    'location': [-115, -105, 40, 50],\n",
    "}\n",
    "country_parameters = {\n",
    "    'variable': 'acpcp',\n",
    "    'level': 'surface',\n",
    "    'location': 'Dominican Republic',\n",
    "}"
   ]
  },
  {
   "cell_type": "code",
   "execution_count": null,
   "metadata": {
    "pycharm": {
     "name": "#%%\n"
    }
   },
   "outputs": [],
   "source": [
    "timeseries_point = requests.get(tethysurl + '/apps/gfs/api/timeseries', headers= header, params=point_parameters)\n",
    "print(timeseries_point.text)"
   ]
  },
  {
   "cell_type": "code",
   "execution_count": null,
   "metadata": {
    "pycharm": {
     "name": "#%%\n"
    }
   },
   "outputs": [],
   "source": [
    "timeseries_polygon = requests.get(tethysurl + '/apps/gfs/api/timeseries', headers= header, params=polygon_parameters)\n",
    "print(timeseries_polygon.text)"
   ]
  },
  {
   "cell_type": "code",
   "execution_count": null,
   "metadata": {
    "pycharm": {
     "name": "#%%\n"
    }
   },
   "outputs": [],
   "source": [
    "timeseries_vector = requests.get(tethysurl + '/apps/gfs/api/timeseries', headers= header, params=country_parameters)\n",
    "print(timeseries_vector.text)"
   ]
  }
 ],
 "metadata": {
  "kernelspec": {
   "display_name": "Python 3",
   "language": "python",
   "name": "python3"
  },
  "language_info": {
   "codemirror_mode": {
    "name": "ipython",
    "version": 3
   },
   "file_extension": ".py",
   "mimetype": "text/x-python",
   "name": "python",
   "nbconvert_exporter": "python",
   "pygments_lexer": "ipython3",
   "version": "3.6.7"
  },
  "pycharm": {
   "stem_cell": {
    "cell_type": "raw",
    "metadata": {
     "collapsed": false
    },
    "source": []
   }
  }
 },
 "nbformat": 4,
 "nbformat_minor": 1
}
